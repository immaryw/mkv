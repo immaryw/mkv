{
 "cells": [
  {
   "cell_type": "code",
   "execution_count": 1,
   "metadata": {},
   "outputs": [],
   "source": [
    "from moviepy.editor import *\n",
    "import os"
   ]
  },
  {
   "cell_type": "code",
   "execution_count": 29,
   "metadata": {
    "lines_to_next_cell": 2
   },
   "outputs": [
    {
     "name": "stdout",
     "output_type": "stream",
     "text": [
      "11\n"
     ]
    }
   ],
   "source": [
    "# load audios\n",
    "audios_input = './lingjian/7-15/'\n",
    "li_temp = list(map(lambda x: audios_input + x, sorted(os.listdir(audios_input))))\n",
    "li_input = list(filter(lambda audios_input: audios_input.endswith('.MP3'), li_temp))\n",
    "num = len(li_input)\n",
    "print(num)"
   ]
  },
  {
   "cell_type": "code",
   "execution_count": 30,
   "metadata": {},
   "outputs": [
    {
     "data": {
      "text/plain": [
       "['./lingjian/7-15/223.[╩█║єг║huisz9].MP3',\n",
       " './lingjian/7-15/224.[╩█║єг║huisz9].MP3',\n",
       " './lingjian/7-15/225.[╩█║єг║huisz9].MP3',\n",
       " './lingjian/7-15/226.[╩█║єг║huisz9].MP3',\n",
       " './lingjian/7-15/227.[╩█║єг║huisz9].MP3',\n",
       " './lingjian/7-15/228.[╩█║єг║huisz9].MP3',\n",
       " './lingjian/7-15/229.[╩█║єг║huisz9].MP3',\n",
       " './lingjian/7-15/230.[╩█║єг║huisz9].MP3',\n",
       " './lingjian/7-15/231.[╩█║єг║huisz9].MP3',\n",
       " './lingjian/7-15/232.[╩█║єг║huisz9].MP3',\n",
       " './lingjian/7-15/233.[╩█║єг║huisz9].MP3']"
      ]
     },
     "execution_count": 30,
     "metadata": {},
     "output_type": "execute_result"
    }
   ],
   "source": [
    "li_input"
   ]
  },
  {
   "cell_type": "code",
   "execution_count": 31,
   "metadata": {},
   "outputs": [],
   "source": [
    "### modify and combine\n",
    "L = []\n",
    "\n",
    "# start at half\n",
    "# adstart = AudioFileClip(li_input[0])\n",
    "# adstart_v = adstart.subclip(724,adstart.duration)\n",
    "# L.append(adstart_v)\n",
    "\n",
    "# remove unified pre\n",
    "for i in range(0, num): #note\n",
    "    ad = AudioFileClip(li_input[i])\n",
    "    ad_v = ad.subclip(32.8,ad.duration) # cut off the first 29.6s\n",
    "    L.append(ad_v)\n",
    "    #print(ad_v.start, ad_v.end, ad_v.duration)\n",
    "    \n",
    "# end at half\n",
    "# adend = AudioFileClip(li_input[-1])\n",
    "# adend_v = adend.subclip(32.8, 739)\n",
    "# L.append(adend_v)\n",
    "\n",
    "final_clip = concatenate_audioclips(L) "
   ]
  },
  {
   "cell_type": "code",
   "execution_count": 32,
   "metadata": {},
   "outputs": [
    {
     "name": "stderr",
     "output_type": "stream",
     "text": [
      "chunk:   0%|          | 52/285925 [00:00<10:03, 473.81it/s, now=None]"
     ]
    },
    {
     "name": "stdout",
     "output_type": "stream",
     "text": [
      "MoviePy - Writing audio in ./lingjian/vol7-15.mp3\n"
     ]
    },
    {
     "name": "stderr",
     "output_type": "stream",
     "text": [
      "                                                                          \r"
     ]
    },
    {
     "name": "stdout",
     "output_type": "stream",
     "text": [
      "MoviePy - Done.\n"
     ]
    }
   ],
   "source": [
    "# write out\n",
    "audios_output = './lingjian/vol7-15.mp3'\n",
    "final_clip.write_audiofile(audios_output)"
   ]
  },
  {
   "cell_type": "code",
   "execution_count": 42,
   "metadata": {},
   "outputs": [],
   "source": [
    "## add cover pic\n",
    "audioclip = AudioFileClip(\"./result/vol.mp3\")\n",
    "imgclip = ImageClip(\"mountain.jpg\")\n",
    "vd = imgclip.set_duration(audioclip.duration).set_audio(audioclip)#.fx( vfx.speedx, 1.2)\n",
    "\n",
    "# too big not work\n",
    "vd.write_videofile('./result/vd.mp4', fps=30)"
   ]
  },
  {
   "cell_type": "code",
   "execution_count": null,
   "metadata": {},
   "outputs": [],
   "source": []
  }
 ],
 "metadata": {
  "jupytext": {
   "cell_metadata_filter": "-all",
   "notebook_metadata_filter": "-all"
  },
  "kernelspec": {
   "display_name": "vd38",
   "language": "python",
   "name": "vd38"
  },
  "language_info": {
   "codemirror_mode": {
    "name": "ipython",
    "version": 3
   },
   "file_extension": ".py",
   "mimetype": "text/x-python",
   "name": "python",
   "nbconvert_exporter": "python",
   "pygments_lexer": "ipython3",
   "version": "3.8.3"
  }
 },
 "nbformat": 4,
 "nbformat_minor": 4
}
